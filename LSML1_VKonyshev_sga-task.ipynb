{
 "cells": [
  {
   "cell_type": "markdown",
   "metadata": {},
   "source": [
    "# User routes on the site\n",
    "## Description\n",
    "**Clickstream** is a sequence of user actions on a website. It allows you to understand how users interact with the site. In this task, you need to find the most frequent custom routes.\n",
    "\n",
    "## Input data\n",
    "Input data is а table with clickstream data in file `hdfs:/data/clickstream.csv`.\n",
    "\n",
    "### Table structure\n",
    "* `user_id (int)` - Unique user identifier.\n",
    "* `session_id (int)` - Unique identifier for the user session. The user's session lasts until the identifier changes.\n",
    "* `event_type (string)` - Event type from the list:\n",
    "    * **page** - visit to the page\n",
    "    * **event** - any action on the page\n",
    "    * <b>&lt;custom&gt;</b> - string with any other type\n",
    "* `event_type (string)` - Page on the site.\n",
    "* `timestamp (int)` - Unix-timestamp of action.\n",
    "\n",
    "### Browser errors\n",
    "Errors can sometimes occur in the user's browser - after such an error appears, we can no longer trust the data of this session and all the following lines after the error or at the same time with it are considered corrupted and **should not be counted** in statistics.\n",
    "\n",
    "When an error occurs on the page, a random string containing the word **error** will be written to the `event_type` field.\n",
    "\n",
    "### Sample of user session\n",
    "<pre>\n",
    "+-------+----------+------------+----------+----------+\n",
    "|user_id|session_id|  event_type|event_page| timestamp|\n",
    "+-------+----------+------------+----------+----------+\n",
    "|    562|       507|        page|      main|1620494781|\n",
    "|    562|       507|       event|      main|1620494788|\n",
    "|    562|       507|       event|      main|1620494798|\n",
    "|    562|       507|        page|    family|1620494820|\n",
    "|    562|       507|       event|    family|1620494828|\n",
    "|    562|       507|        page|      main|1620494848|\n",
    "|    562|       507|wNaxLlerrorU|      main|1620494865|\n",
    "|    562|       507|       event|      main|1620494873|\n",
    "|    562|       507|        page|      news|1620494875|\n",
    "|    562|       507|        page|   tariffs|1620494876|\n",
    "|    562|       507|       event|   tariffs|1620494884|\n",
    "|    562|       514|        page|      main|1620728918|\n",
    "|    562|       514|       event|      main|1620729174|\n",
    "|    562|       514|        page|   archive|1620729674|\n",
    "|    562|       514|        page|     bonus|1620729797|\n",
    "|    562|       514|        page|   tariffs|1620731090|\n",
    "|    562|       514|       event|   tariffs|1620731187|\n",
    "+-------+----------+------------+----------+----------+\n",
    "</pre>\n",
    "\n",
    "#### Correct user routes for a given user:\n",
    "* **Session 507**: main-family-main\n",
    "* **Session 514**: main-archive-bonus-tariffs\n",
    "\n",
    "Route elements are ordered by the time they appear in the clickstream, from earliest to latest.\n",
    "\n",
    "The route must be accounted for completely before the end of the session or an error in the session.\n",
    "\n",
    "## Task\n",
    "You need to use the Spark SQL, Spark RDD and Spark DF interfaces to create a solution file, the lines of which contain **the 30 most frequent user routes** on the site.\n",
    "\n",
    "Each line of the file should contain the `route` and `count` values **separated by tabs**, where:\n",
    "* `route` - route on the site, consisting of pages separated by \"-\".\n",
    "* `count` - the number of user sessions in which this route was.\n",
    "\n",
    "The lines must be **ordered in descending order** of the `count` field.\n",
    "\n",
    "## Criteria\n",
    "You can get maximum of 3.5 points (final grade) for this assignment, depedning on the number of interface you manage to leverage. The criteria are as follows:\n",
    "\n",
    "* 0.5 points – Spark SQL solution with 1 query\n",
    "* 0.5 points – Spark SQL solution with <=2 queries\n",
    "* 0.5 points – Spark RDD solution\n",
    "* 0.5 points – Spark DF solution\n",
    "* 0.5 points – your solution algorithm is relatively optimized, i.e.: no O^2 or O^3 complexities; appropriate object usage; no data leaks etc. This is evaluated by staff.\n",
    "* 1 point – 1 on 1 screening session. During this session staff member can ask you questions regarding your solution logic, framework usage, questionable parts of your code etc. If your code is clean enough, the staff member can just ask you to solve a theoretical problem connected to Spark.\n"
   ]
  },
  {
   "cell_type": "code",
   "execution_count": null,
   "metadata": {},
   "outputs": [],
   "source": []
  },
  {
   "cell_type": "code",
   "execution_count": 1,
   "metadata": {
    "tags": []
   },
   "outputs": [],
   "source": [
    "import findspark\n",
    "findspark.init()\n",
    "import pyspark\n",
    "from pyspark import sql\n",
    "from pyspark.sql import SparkSession, Row\n",
    "from pyspark.sql import functions as f\n",
    "# from pyspark.sql import SparkSession\n",
    "from pyspark.sql.window import Window"
   ]
  },
  {
   "cell_type": "code",
   "execution_count": 2,
   "metadata": {
    "tags": []
   },
   "outputs": [
    {
     "name": "stderr",
     "output_type": "stream",
     "text": [
      "Setting default log level to \"WARN\".\n",
      "To adjust logging level use sc.setLogLevel(newLevel). For SparkR, use setLogLevel(newLevel).\n",
      "2024-01-21 18:38:13,802 WARN yarn.Client: Neither spark.yarn.jars nor spark.yarn.archive is set, falling back to uploading libraries under SPARK_HOME.\n"
     ]
    }
   ],
   "source": [
    "sc = pyspark.SparkContext(appName='jupyter')\n",
    "se = SparkSession(sc)"
   ]
  },
  {
   "cell_type": "code",
   "execution_count": 97,
   "metadata": {
    "tags": []
   },
   "outputs": [],
   "source": [
    "data = se.read.csv(\"hdfs:/data/clickstream.csv\", header=True, sep = '\\t')\n",
    "data.registerTempTable(\"data\")\n",
    "df = data"
   ]
  },
  {
   "cell_type": "code",
   "execution_count": 84,
   "metadata": {
    "tags": []
   },
   "outputs": [
    {
     "name": "stdout",
     "output_type": "stream",
     "text": [
      "+-------+----------+------------+----------+----------+\n",
      "|user_id|session_id|  event_type|event_page| timestamp|\n",
      "+-------+----------+------------+----------+----------+\n",
      "|    562|       507|        page|      main|1695584127|\n",
      "|    562|       507|       event|      main|1695584134|\n",
      "|    562|       507|       event|      main|1695584144|\n",
      "|    562|       507|       event|      main|1695584147|\n",
      "|    562|       507|wNaxLlerrorU|      main|1695584154|\n",
      "+-------+----------+------------+----------+----------+\n",
      "only showing top 5 rows\n",
      "\n"
     ]
    }
   ],
   "source": [
    "df.show(5)"
   ]
  },
  {
   "cell_type": "markdown",
   "metadata": {},
   "source": [
    "Spark DF solution"
   ]
  },
  {
   "cell_type": "code",
   "execution_count": 98,
   "metadata": {
    "tags": []
   },
   "outputs": [],
   "source": [
    "session = (Window\n",
    "           .partitionBy(\"user_id\", \"session_id\")\n",
    "           .orderBy(\"timestamp\")\n",
    "          )"
   ]
  },
  {
   "cell_type": "code",
   "execution_count": 99,
   "metadata": {
    "tags": []
   },
   "outputs": [],
   "source": [
    "# Working variant\n",
    "routes = (df\n",
    "          #Adding error flog to events with errors\n",
    "          .withColumn('isError', f.when(f.col('event_type').contains('error'),True))\n",
    "          #Marking session with error and all the following lines after the error or at the same time with it with flog in order to remove them\n",
    "          .withColumn('to_drop', f.last('isError', ignorenulls = True).over(session))\n",
    "          #Removing all lines from error sessions\n",
    "          .filter(f.isnull(\"to_drop\"))\n",
    "          #Marking all consecutive duplicate lines in session \n",
    "          .withColumn(\"duplicate\", f.when(f.lag(\"event_page\").over(session) == f.col(\"event_page\"), True))\n",
    "          #Removing all consecutive duplicate lines in session\n",
    "          .filter(f.isnull(\"duplicate\"))\n",
    "          #Collect route in one column from several rows\n",
    "          .withColumn('route',(f.collect_list('event_page')).over(session))\n",
    "          #Joining collecting route to one string with delimiter \"-\"\n",
    "          .withColumn(\"route\", f.array_join(f.col(\"route\"), \"-\"))\n",
    "          .groupBy(\"user_id\", \"session_id\")\n",
    "          .agg(f.max('route').alias('route'))\n",
    "          .select(\"route\")\n",
    "         )"
   ]
  },
  {
   "cell_type": "code",
   "execution_count": 116,
   "metadata": {},
   "outputs": [],
   "source": [
    "result_df = (routes\n",
    "          .select(\"route\")\n",
    "          .groupBy(\"route\")\n",
    "          .agg(f.count(f.col(\"route\")).alias(\"count\"))\n",
    "          .orderBy(\"count\",  ascending = False)\n",
    "          .limit(30)\n",
    "          )"
   ]
  },
  {
   "cell_type": "code",
   "execution_count": 120,
   "metadata": {
    "tags": []
   },
   "outputs": [
    {
     "name": "stderr",
     "output_type": "stream",
     "text": [
      "[Stage 390:===============================================>       (12 + 2) / 14]\r"
     ]
    },
    {
     "name": "stdout",
     "output_type": "stream",
     "text": [
      "+--------------------+-----+\n",
      "|               route|count|\n",
      "+--------------------+-----+\n",
      "|                main| 8184|\n",
      "|        main-archive| 1113|\n",
      "|         main-rabota| 1047|\n",
      "|       main-internet|  897|\n",
      "|          main-bonus|  870|\n",
      "|           main-news|  769|\n",
      "|        main-tariffs|  677|\n",
      "|         main-online|  587|\n",
      "|          main-vklad|  518|\n",
      "| main-rabota-archive|  170|\n",
      "| main-archive-rabota|  167|\n",
      "|  main-bonus-archive|  143|\n",
      "|   main-rabota-bonus|  139|\n",
      "|   main-bonus-rabota|  135|\n",
      "|    main-news-rabota|  135|\n",
      "|main-archive-inte...|  132|\n",
      "|    main-rabota-news|  130|\n",
      "|main-internet-rabota|  129|\n",
      "|   main-archive-news|  126|\n",
      "|main-rabota-internet|  124|\n",
      "|main-internet-arc...|  123|\n",
      "|  main-archive-bonus|  117|\n",
      "| main-internet-bonus|  115|\n",
      "|main-tariffs-inte...|  114|\n",
      "|   main-news-archive|  113|\n",
      "|  main-news-internet|  109|\n",
      "|main-archive-tariffs|  104|\n",
      "|  main-internet-news|  103|\n",
      "|main-tariffs-archive|  103|\n",
      "|    main-rabota-main|   94|\n",
      "+--------------------+-----+\n",
      "\n"
     ]
    },
    {
     "name": "stderr",
     "output_type": "stream",
     "text": [
      "                                                                                \r"
     ]
    }
   ],
   "source": [
    "result_df.show(35)"
   ]
  },
  {
   "cell_type": "code",
   "execution_count": 162,
   "metadata": {
    "tags": []
   },
   "outputs": [],
   "source": [
    "result_df.rdd.map(lambda x: f\"{x[0]}\\t{x[1]}\").coalesce(1).saveAsTextFile(\"/data/solution_df\")"
   ]
  },
  {
   "cell_type": "markdown",
   "metadata": {},
   "source": [
    "SQL solution"
   ]
  },
  {
   "cell_type": "code",
   "execution_count": 165,
   "metadata": {
    "tags": []
   },
   "outputs": [],
   "source": [
    "df.createOrReplaceTempView(\"view\")"
   ]
  },
  {
   "cell_type": "code",
   "execution_count": 166,
   "metadata": {
    "tags": []
   },
   "outputs": [
    {
     "name": "stderr",
     "output_type": "stream",
     "text": [
      "[Stage 439:===================================================>   (13 + 1) / 14]\r"
     ]
    },
    {
     "name": "stdout",
     "output_type": "stream",
     "text": [
      "+--------------------+-----+\n",
      "|               route|count|\n",
      "+--------------------+-----+\n",
      "|                main| 8184|\n",
      "|        main-archive| 1113|\n",
      "|         main-rabota| 1047|\n",
      "|       main-internet|  897|\n",
      "|          main-bonus|  870|\n",
      "|           main-news|  769|\n",
      "|        main-tariffs|  677|\n",
      "|         main-online|  587|\n",
      "|          main-vklad|  518|\n",
      "| main-rabota-archive|  170|\n",
      "| main-archive-rabota|  167|\n",
      "|  main-bonus-archive|  143|\n",
      "|   main-rabota-bonus|  139|\n",
      "|   main-bonus-rabota|  135|\n",
      "|    main-news-rabota|  135|\n",
      "|main-archive-inte...|  132|\n",
      "|    main-rabota-news|  130|\n",
      "|main-internet-rabota|  129|\n",
      "|   main-archive-news|  126|\n",
      "|main-rabota-internet|  124|\n",
      "|main-internet-arc...|  123|\n",
      "|  main-archive-bonus|  117|\n",
      "| main-internet-bonus|  115|\n",
      "|main-tariffs-inte...|  114|\n",
      "|   main-news-archive|  113|\n",
      "|  main-news-internet|  109|\n",
      "|main-archive-tariffs|  104|\n",
      "|  main-internet-news|  103|\n",
      "|main-tariffs-archive|  103|\n",
      "|    main-rabota-main|   94|\n",
      "+--------------------+-----+\n",
      "\n"
     ]
    },
    {
     "name": "stderr",
     "output_type": "stream",
     "text": [
      "                                                                                \r"
     ]
    }
   ],
   "source": [
    "sql_result = se.sql(\n",
    "                \"\"\"\n",
    "                SELECT ARRAY_JOIN(route, '-') as route, count(route) as count\n",
    "                FROM\n",
    "                    (SELECT user_id, session_id, MAX(route) AS route\n",
    "                    FROM\n",
    "                        (SELECT *,\n",
    "                        --Collect route in one column from several rows\n",
    "                        COLLECT_LIST(event_page) OVER(PARTITION BY user_id, session_id ORDER BY timestamp) AS route\n",
    "                        FROM\n",
    "                           (SELECT *\n",
    "                            FROM\n",
    "                                (SELECT *,\n",
    "                                --Removing all consecutive duplicate lines in session\n",
    "                                CASE WHEN LAG(event_page) OVER(PARTITION BY user_id, session_id ORDER BY timestamp) = event_page THEN TRUE\n",
    "                                ELSE NULL\n",
    "                                END AS is_duplicate\n",
    "                                FROM\n",
    "                                    (SELECT *\n",
    "                                    FROM\n",
    "                                        (SELECT *,\n",
    "                                        --Marking session with error and all the following lines after the error or at the same time with it with flog in order to remove them\n",
    "                                        LAST(is_error, TRUE) OVER(PARTITION BY user_id, session_id ORDER BY timestamp) AS to_drop\n",
    "                                        FROM\n",
    "                                            (SELECT *,\n",
    "                                            --Adding error flog to events with errors\n",
    "                                            CASE WHEN event_type LIKE '%error%' THEN TRUE ELSE NULL END AS is_error \n",
    "                                            FROM view\n",
    "                                            ) AS vw_with_error\n",
    "                                        ) AS vw_drop_marked\n",
    "                                    WHERE to_drop IS NULL\n",
    "                                    ) AS vw_dup_marked                    \n",
    "                                 )\n",
    "                                 WHERE is_duplicate IS NULL\n",
    "                                 ) AS ROUTES\n",
    "                            )\n",
    "                            GROUP BY user_id, session_id\n",
    "                         )\n",
    "                    GROUP BY route\n",
    "                    ORDER BY count DESC, route ASC\n",
    "                    LIMIT 30\n",
    "                \"\"\"\n",
    "                )\n",
    "sql_result.show(30)"
   ]
  },
  {
   "cell_type": "code",
   "execution_count": 167,
   "metadata": {
    "tags": []
   },
   "outputs": [
    {
     "name": "stderr",
     "output_type": "stream",
     "text": [
      "                                                                                \r"
     ]
    }
   ],
   "source": [
    "sql_result.rdd.map(lambda x: f\"{x[0]}\\t{x[1]}\").coalesce(1).saveAsTextFile(\"/data/solution_sql\")"
   ]
  },
  {
   "cell_type": "code",
   "execution_count": 170,
   "metadata": {
    "tags": []
   },
   "outputs": [],
   "source": [
    "from itertools import groupby \n",
    "#Function to remove duplicates and combine route to one string\n",
    "def rem_dupl(lst):   \n",
    "    result = '-'.join([i[0] for i in groupby(lst)])\n",
    "    return result\n"
   ]
  },
  {
   "cell_type": "code",
   "execution_count": 171,
   "metadata": {
    "tags": []
   },
   "outputs": [],
   "source": [
    "rdd_data = df.rdd\n",
    "#Celecting string with error into separate RDD\n",
    "is_error = (rdd_data\n",
    "            .filter(lambda row: 'error' in row.event_type)\n",
    "            .map(lambda row: ((row.user_id, row.session_id), row.timestamp))\n",
    "            .reduceByKey(lambda x, y: min(x, y))\n",
    "           )"
   ]
  },
  {
   "cell_type": "code",
   "execution_count": 180,
   "metadata": {
    "tags": []
   },
   "outputs": [
    {
     "name": "stderr",
     "output_type": "stream",
     "text": [
      "                                                                                \r"
     ]
    }
   ],
   "source": [
    "rdd_result =    sc.parallelize(\n",
    "                rdd_data\n",
    "                 #Deleting all data from sessions with errors\n",
    "                .map(lambda row: ((row.user_id, row.session_id), row))\n",
    "                .leftOuterJoin(is_error)\n",
    "                .filter(lambda row: row[1][1] is None or row[1][0].timestamp < row[1][1])\n",
    "                 #Rearranging data and combining route into one string, removing duplicates by using user function rem_dupl\n",
    "                .map(lambda row: row[1][0])\n",
    "                .map(lambda row: ((row.user_id, row.session_id), row.event_page))\n",
    "                .map(lambda row: (row[0], [row[1]]))\n",
    "                .reduceByKey(lambda x, y: x + y)\n",
    "                .map(lambda row: (row[0], rem_dupl(row[1])))\n",
    "                #Grouping by route and count them\n",
    "                .map(lambda row: (row[1], 1))\n",
    "                .reduceByKey(lambda x, y: x + y)\n",
    "                .sortBy(lambda row: row[1], ascending=False)\n",
    "                .take(30)\n",
    "                ).cache()"
   ]
  },
  {
   "cell_type": "code",
   "execution_count": 182,
   "metadata": {
    "tags": []
   },
   "outputs": [
    {
     "name": "stderr",
     "output_type": "stream",
     "text": [
      "                                                                                \r"
     ]
    }
   ],
   "source": [
    "rdd_result.map(lambda x: f\"{x[0]}\\t{x[1]}\").coalesce(1).saveAsTextFile(\"/data/solution_rdd\")"
   ]
  },
  {
   "cell_type": "code",
   "execution_count": 191,
   "metadata": {
    "tags": []
   },
   "outputs": [],
   "source": [
    "sc.stop()"
   ]
  }
 ],
 "metadata": {
  "coursera": {
   "schema_names": [
    "week-4-spark-homework"
   ]
  },
  "kernelspec": {
   "display_name": "Python 3 (ipykernel)",
   "language": "python",
   "name": "python3"
  },
  "language_info": {
   "codemirror_mode": {
    "name": "ipython",
    "version": 3
   },
   "file_extension": ".py",
   "mimetype": "text/x-python",
   "name": "python",
   "nbconvert_exporter": "python",
   "pygments_lexer": "ipython3",
   "version": "3.10.9"
  },
  "vscode": {
   "interpreter": {
    "hash": "31f2aee4e71d21fbe5cf8b01ff0e069b9275f58929596ceb00d14d90e3e16cd6"
   }
  }
 },
 "nbformat": 4,
 "nbformat_minor": 4
}
